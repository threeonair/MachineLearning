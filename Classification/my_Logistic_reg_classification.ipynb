{
 "cells": [
  {
   "cell_type": "markdown",
   "id": "1be1cbdf-31e2-45d6-acc4-cdd67b0dbf4f",
   "metadata": {},
   "source": [
    "# My Logistic Regression Classification"
   ]
  },
  {
   "cell_type": "code",
   "execution_count": 1,
   "id": "d9d219cd-0d81-475d-9d28-bb7d0b033350",
   "metadata": {},
   "outputs": [],
   "source": [
    "import numpy as np\n",
    "import matplotlib.pyplot as plt\n",
    "import pandas as pd"
   ]
  },
  {
   "cell_type": "code",
   "execution_count": null,
   "id": "81e9552f-a3be-4aa6-bcae-60303d62abc4",
   "metadata": {},
   "outputs": [],
   "source": []
  },
  {
   "cell_type": "code",
   "execution_count": null,
   "id": "861bb27f-68f2-42c8-8f66-eb932eb5ee8f",
   "metadata": {},
   "outputs": [],
   "source": []
  },
  {
   "cell_type": "code",
   "execution_count": null,
   "id": "efa733f6-afdd-407e-a808-2dfa434fd898",
   "metadata": {},
   "outputs": [],
   "source": []
  },
  {
   "cell_type": "code",
   "execution_count": null,
   "id": "43531308-58bb-486b-a8b8-9fe71cdce959",
   "metadata": {},
   "outputs": [],
   "source": []
  },
  {
   "cell_type": "code",
   "execution_count": null,
   "id": "fbf9e7d3-9521-47ef-9f18-01328196ef6b",
   "metadata": {},
   "outputs": [],
   "source": []
  }
 ],
 "metadata": {
  "kernelspec": {
   "display_name": "Python 3 (ipykernel)",
   "language": "python",
   "name": "python3"
  },
  "language_info": {
   "codemirror_mode": {
    "name": "ipython",
    "version": 3
   },
   "file_extension": ".py",
   "mimetype": "text/x-python",
   "name": "python",
   "nbconvert_exporter": "python",
   "pygments_lexer": "ipython3",
   "version": "3.9.13"
  }
 },
 "nbformat": 4,
 "nbformat_minor": 5
}

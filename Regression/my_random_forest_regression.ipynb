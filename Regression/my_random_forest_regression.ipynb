{
 "cells": [
  {
   "cell_type": "markdown",
   "id": "6aa23a7a-54f3-4855-87cf-a2a8b4f2b2ab",
   "metadata": {},
   "source": [
    "# Random Forest Regression"
   ]
  },
  {
   "cell_type": "markdown",
   "id": "6b104717-d591-4a91-9a13-035b6416561f",
   "metadata": {},
   "source": [
    "## Importing libraries"
   ]
  },
  {
   "cell_type": "code",
   "execution_count": 14,
   "id": "ae2b6155-d86b-4128-ac9f-65f16bc2abce",
   "metadata": {},
   "outputs": [],
   "source": [
    "import numpy as np\n",
    "import matplotlib.pyplot as plt\n",
    "import pandas as pd"
   ]
  },
  {
   "cell_type": "markdown",
   "id": "5fcc5835-e11a-48ee-9da1-72c976ec6398",
   "metadata": {},
   "source": [
    "## Importing the dataset"
   ]
  },
  {
   "cell_type": "code",
   "execution_count": 15,
   "id": "97e9c70d-b1a1-41c0-91c2-738d5768d91d",
   "metadata": {},
   "outputs": [],
   "source": [
    "# pd.read_csv(r\"E:\\mynotebooks\\data\\Salary_Data.csv\").head(3)"
   ]
  },
  {
   "cell_type": "code",
   "execution_count": 16,
   "id": "ce7fd461-4fb3-43f7-b89e-6d43eee76964",
   "metadata": {},
   "outputs": [],
   "source": [
    "# location (directory) of the notebook\n",
    "import pathlib\n",
    "NOTEBOOK_PATH = pathlib.Path().resolve()\n",
    "DATA_DIRECTORY = NOTEBOOK_PATH / \"data\""
   ]
  },
  {
   "cell_type": "code",
   "execution_count": 17,
   "id": "51403d4e-5b8f-4383-af78-999e48b5b240",
   "metadata": {},
   "outputs": [
    {
     "data": {
      "text/html": [
       "<div>\n",
       "<style scoped>\n",
       "    .dataframe tbody tr th:only-of-type {\n",
       "        vertical-align: middle;\n",
       "    }\n",
       "\n",
       "    .dataframe tbody tr th {\n",
       "        vertical-align: top;\n",
       "    }\n",
       "\n",
       "    .dataframe thead th {\n",
       "        text-align: right;\n",
       "    }\n",
       "</style>\n",
       "<table border=\"1\" class=\"dataframe\">\n",
       "  <thead>\n",
       "    <tr style=\"text-align: right;\">\n",
       "      <th></th>\n",
       "      <th>Position</th>\n",
       "      <th>Level</th>\n",
       "      <th>Salary</th>\n",
       "    </tr>\n",
       "  </thead>\n",
       "  <tbody>\n",
       "    <tr>\n",
       "      <th>0</th>\n",
       "      <td>Business Analyst</td>\n",
       "      <td>1</td>\n",
       "      <td>45000</td>\n",
       "    </tr>\n",
       "    <tr>\n",
       "      <th>1</th>\n",
       "      <td>Junior Consultant</td>\n",
       "      <td>2</td>\n",
       "      <td>50000</td>\n",
       "    </tr>\n",
       "    <tr>\n",
       "      <th>2</th>\n",
       "      <td>Senior Consultant</td>\n",
       "      <td>3</td>\n",
       "      <td>60000</td>\n",
       "    </tr>\n",
       "  </tbody>\n",
       "</table>\n",
       "</div>"
      ],
      "text/plain": [
       "            Position  Level  Salary\n",
       "0   Business Analyst      1   45000\n",
       "1  Junior Consultant      2   50000\n",
       "2  Senior Consultant      3   60000"
      ]
     },
     "execution_count": 17,
     "metadata": {},
     "output_type": "execute_result"
    }
   ],
   "source": [
    "# dataset = pd.read_csv(DATA_DIRECTORY/ \"Salary_Data.csv\")\n",
    "dataset = pd.read_csv(DATA_DIRECTORY/ \"Position_Salaries.csv\")\n",
    "dataset.head(3)"
   ]
  },
  {
   "cell_type": "code",
   "execution_count": 41,
   "id": "cb06f710-3a9d-4450-842a-3e11827d8d2b",
   "metadata": {},
   "outputs": [],
   "source": [
    "X = dataset.iloc[:,1:-1].values\n"
   ]
  },
  {
   "cell_type": "code",
   "execution_count": 42,
   "id": "502e86bf-9d60-4517-a78d-6c9f7aa0439b",
   "metadata": {},
   "outputs": [],
   "source": [
    "y = dataset.iloc[:,-1].values"
   ]
  },
  {
   "cell_type": "code",
   "execution_count": 43,
   "id": "f2c75456-a348-4c3e-9f38-35bf7b3e7e4c",
   "metadata": {},
   "outputs": [
    {
     "data": {
      "text/plain": [
       "array([[1],\n",
       "       [2],\n",
       "       [3]], dtype=int64)"
      ]
     },
     "execution_count": 43,
     "metadata": {},
     "output_type": "execute_result"
    }
   ],
   "source": [
    "X[:3,:]"
   ]
  },
  {
   "cell_type": "code",
   "execution_count": 44,
   "id": "2892c9ac-e2d8-4234-bd19-1fdec30b6779",
   "metadata": {},
   "outputs": [
    {
     "data": {
      "text/plain": [
       "array([45000, 50000, 60000], dtype=int64)"
      ]
     },
     "execution_count": 44,
     "metadata": {},
     "output_type": "execute_result"
    }
   ],
   "source": [
    "y[:3]"
   ]
  },
  {
   "cell_type": "code",
   "execution_count": null,
   "id": "d2ba4a02-155d-43da-a662-33c3376244ef",
   "metadata": {},
   "outputs": [],
   "source": []
  },
  {
   "cell_type": "markdown",
   "id": "594d604f-7e61-46fb-b8a3-ba9a96aa92be",
   "metadata": {},
   "source": [
    "## Training the Random Forest Regression Model on the Whole Dataset"
   ]
  },
  {
   "cell_type": "code",
   "execution_count": 45,
   "id": "1ff2161f-eb9c-42d8-ac8a-deead7a88d76",
   "metadata": {},
   "outputs": [],
   "source": [
    "from sklearn.ensemble import RandomForestRegressor"
   ]
  },
  {
   "cell_type": "code",
   "execution_count": 46,
   "id": "6125e4cc-4a82-45fd-9e08-1fb04e347b5a",
   "metadata": {},
   "outputs": [],
   "source": [
    "regr = RandomForestRegressor(n_estimators=10, random_state=0, max_depth=5)"
   ]
  },
  {
   "cell_type": "code",
   "execution_count": 47,
   "id": "dd067d4d-a85c-49c8-bc35-644026e7fbfd",
   "metadata": {},
   "outputs": [
    {
     "data": {
      "text/plain": [
       "RandomForestRegressor(max_depth=5, n_estimators=10, random_state=0)"
      ]
     },
     "execution_count": 47,
     "metadata": {},
     "output_type": "execute_result"
    }
   ],
   "source": [
    "regr.fit(X, y)"
   ]
  },
  {
   "cell_type": "markdown",
   "id": "8db5fa91-3f51-4d33-815a-09f00aac4c3f",
   "metadata": {},
   "source": [
    "## Predicting new a result"
   ]
  },
  {
   "cell_type": "code",
   "execution_count": 48,
   "id": "8a9e9631-6dec-44db-879c-8840cead0240",
   "metadata": {},
   "outputs": [
    {
     "data": {
      "text/plain": [
       "array([167000.])"
      ]
     },
     "execution_count": 48,
     "metadata": {},
     "output_type": "execute_result"
    }
   ],
   "source": [
    "regr.predict([[6.5]])"
   ]
  },
  {
   "cell_type": "markdown",
   "id": "e4e9e39a-e6ed-4963-aa0d-d2dcbae22102",
   "metadata": {},
   "source": [
    "## Visualizing the Random Forest Regression Results"
   ]
  },
  {
   "cell_type": "code",
   "execution_count": 49,
   "id": "f0264533-e8fa-4c59-9a56-8af86d8b371a",
   "metadata": {},
   "outputs": [
    {
     "data": {
      "image/png": "[encoded data removed]",
      "text/plain": [
       "<Figure size 640x480 with 1 Axes>"
      ]
     },
     "metadata": {},
     "output_type": "display_data"
    }
   ],
   "source": [
    "X_grid = np.arange(min(X), max(X), 0.01)\n",
    "X_grid = X_grid.reshape((len(X_grid), 1))\n",
    "plt.scatter(X, y, color = 'red')\n",
    "plt.plot(X_grid, regr.predict(X_grid), color = 'blue')\n",
    "plt.title('Truth or Bluff (Random Forest Regression)')\n",
    "plt.xlabel('Position level')\n",
    "plt.ylabel('Salary')\n",
    "plt.show()"
   ]
  },
  {
   "cell_type": "code",
   "execution_count": null,
   "id": "b2fa1032-1aa1-402e-ac68-fe28b34b48f2",
   "metadata": {},
   "outputs": [],
   "source": []
  },
  {
   "cell_type": "code",
   "execution_count": null,
   "id": "ca272b5f-45d1-4c2a-b675-5b3d2ad283fe",
   "metadata": {},
   "outputs": [],
   "source": []
  },
  {
   "cell_type": "code",
   "execution_count": null,
   "id": "0d6121a9-863a-4f76-b9d0-273d2c484ef7",
   "metadata": {},
   "outputs": [],
   "source": []
  }
 ],
 "metadata": {
  "kernelspec": {
   "display_name": "Python 3 (ipykernel)",
   "language": "python",
   "name": "python3"
  },
  "language_info": {
   "codemirror_mode": {
    "name": "ipython",
    "version": 3
   },
   "file_extension": ".py",
   "mimetype": "text/x-python",
   "name": "python",
   "nbconvert_exporter": "python",
   "pygments_lexer": "ipython3",
   "version": "3.9.13"
  }
 },
 "nbformat": 4,
 "nbformat_minor": 5
}

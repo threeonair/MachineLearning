{
 "cells": [
  {
   "cell_type": "markdown",
   "id": "85a3082a-572b-455f-aceb-ab4efeedd52e",
   "metadata": {},
   "source": [
    "# Multiple Linear Regression"
   ]
  },
  {
   "cell_type": "code",
   "execution_count": null,
   "id": "d0c7400a-3d7c-4261-9ffd-329e56ea1d0f",
   "metadata": {},
   "outputs": [],
   "source": []
  },
  {
   "cell_type": "markdown",
   "id": "18f03ca2-1392-4b9f-81d8-bb28eef38520",
   "metadata": {},
   "source": [
    "## Importing the libraries"
   ]
  },
  {
   "cell_type": "code",
   "execution_count": null,
   "id": "cf18bb6b-74ed-4ff5-a646-b1c626293309",
   "metadata": {},
   "outputs": [],
   "source": []
  },
  {
   "cell_type": "markdown",
   "id": "225b776a-5046-444b-91ce-6b516afb46cd",
   "metadata": {},
   "source": [
    "## Importing the dataset"
   ]
  },
  {
   "cell_type": "code",
   "execution_count": null,
   "id": "e7740d76-c97a-4012-b2fc-06fb14f8fb1f",
   "metadata": {},
   "outputs": [],
   "source": []
  },
  {
   "cell_type": "markdown",
   "id": "4be9b6b0-9002-4aca-97d3-945fa9a20de3",
   "metadata": {},
   "source": [
    "## Encoding Categorical data"
   ]
  },
  {
   "cell_type": "code",
   "execution_count": null,
   "id": "ccb3947d-6175-4387-ae3c-470dd0d068d8",
   "metadata": {},
   "outputs": [],
   "source": []
  },
  {
   "cell_type": "markdown",
   "id": "6a638a23-74ff-442e-9028-e4132125018c",
   "metadata": {},
   "source": [
    "## Spliting the dataset into Training set and Test set"
   ]
  },
  {
   "cell_type": "code",
   "execution_count": null,
   "id": "40405012-faed-49ad-b22c-a014fc080d5c",
   "metadata": {},
   "outputs": [],
   "source": []
  },
  {
   "cell_type": "markdown",
   "id": "82e4d443-63e7-4def-adfc-bbfd5717836e",
   "metadata": {},
   "source": [
    "## Trainging the multiple linear regression on the training set"
   ]
  },
  {
   "cell_type": "code",
   "execution_count": null,
   "id": "b348674c-0349-4a7c-a067-e6affa44de2b",
   "metadata": {},
   "outputs": [],
   "source": []
  },
  {
   "cell_type": "markdown",
   "id": "e4b28c64-ee69-4b60-bef7-834251ea3154",
   "metadata": {},
   "source": [
    "## Predicting the test set results"
   ]
  },
  {
   "cell_type": "code",
   "execution_count": null,
   "id": "8e8e51e6-99de-4012-b08e-e0e3129ee088",
   "metadata": {},
   "outputs": [],
   "source": []
  },
  {
   "cell_type": "code",
   "execution_count": null,
   "id": "793bb819-7e4f-4dc8-975c-d8c141972474",
   "metadata": {},
   "outputs": [],
   "source": []
  },
  {
   "cell_type": "code",
   "execution_count": null,
   "id": "61c44dfa-6a35-4f3e-9714-ae6c4951fddd",
   "metadata": {},
   "outputs": [],
   "source": []
  }
 ],
 "metadata": {
  "kernelspec": {
   "display_name": "Python 3 (ipykernel)",
   "language": "python",
   "name": "python3"
  },
  "language_info": {
   "codemirror_mode": {
    "name": "ipython",
    "version": 3
   },
   "file_extension": ".py",
   "mimetype": "text/x-python",
   "name": "python",
   "nbconvert_exporter": "python",
   "pygments_lexer": "ipython3",
   "version": "3.9.13"
  }
 },
 "nbformat": 4,
 "nbformat_minor": 5
}
